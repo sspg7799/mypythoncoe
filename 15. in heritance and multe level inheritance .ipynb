{
 "cells": [
  {
   "cell_type": "code",
   "execution_count": 1,
   "id": "d0ad7f58",
   "metadata": {},
   "outputs": [],
   "source": [
    "#in heritance\n",
    "\n",
    "\n",
    "#  parent classs           .............chuld class\n",
    "\n",
    "  #base class                          derived class\n",
    "    \n",
    "    \n",
    "    # in heritance    means :   aqurining  propertirs of parent class\n",
    "    \n",
    "    \n",
    "    # calss is nothing but collection of attributes and method\n",
    "    \n",
    "    # through obeject we can acess the attributes\n",
    "    "
   ]
  },
  {
   "cell_type": "code",
   "execution_count": 8,
   "id": "071f452c",
   "metadata": {},
   "outputs": [
    {
     "name": "stdout",
     "output_type": "stream",
     "text": [
      "100 200\n",
      "baseclass\n"
     ]
    }
   ],
   "source": [
    "# base class object creation and  access the base class  attributes\n",
    "class baseclass:   #  base class\n",
    "    a=100\n",
    "    b=200\n",
    "    def my_base(self):  \n",
    "        print(\"baseclass\")\n",
    "class devdclass:                 # derived class\n",
    "    c=300\n",
    "    d=400\n",
    "    def my_dev(self):\n",
    "        print(\"my derived class\")\n",
    "\n",
    "base_object=baseclass()    # base calss obejct creation ...n\n",
    "\n",
    "#note:  we can acces devrived class object with out in heritance   ....this is sample check below example (next tab)\n",
    "\n",
    "print(base_object.a,base_object.b)\n",
    "\n",
    "base_object.my_base()\n",
    "\n"
   ]
  },
  {
   "cell_type": "code",
   "execution_count": 24,
   "id": "fe96e14b",
   "metadata": {},
   "outputs": [
    {
     "name": "stdout",
     "output_type": "stream",
     "text": [
      "300 400\n",
      "my derived class\n"
     ]
    }
   ],
   "source": [
    "# creation of derived object and access the de rived attributes\n",
    "class baseclass:   # base class  .........  and it is an indepent class\n",
    "    a=100\n",
    "    b=200\n",
    "    def my_base(self):  \n",
    "        print(\"baseclass\")\n",
    "class devclass:                 # derived class  ....it is an indepent class\n",
    "    c=300\n",
    "    d=400\n",
    "    def my_dev(self):\n",
    "        print(\"my derived class\")\n",
    "\n",
    "dev_object=devclass()    #object name = class name  ...... derived calss obejct creation ..\n",
    "\n",
    "#note:  we can not acces base class object with derived obeject    ....\n",
    "#we can not acces base class object with out in heritance   ....this is sample check below example (next tab)\n",
    "\n",
    "print(dev_object.c,dev_object.d)\n",
    "\n",
    "dev_object.my_dev()"
   ]
  },
  {
   "cell_type": "code",
   "execution_count": 20,
   "id": "32f887db",
   "metadata": {},
   "outputs": [
    {
     "ename": "SyntaxError",
     "evalue": "invalid syntax (1628138183.py, line 14)",
     "output_type": "error",
     "traceback": [
      "\u001b[1;36m  Input \u001b[1;32mIn [20]\u001b[1;36m\u001b[0m\n\u001b[1;33m    dev_object=devclass()\u001b[0m\n\u001b[1;37m    ^\u001b[0m\n\u001b[1;31mSyntaxError\u001b[0m\u001b[1;31m:\u001b[0m invalid syntax\n"
     ]
    }
   ],
   "source": [
    "# i try to access base class attribute using the de rived class object .......\n",
    "\n",
    "class baseclass:   # base class  .........  and it is an indepent class\n",
    "    a=100\n",
    "    b=200\n",
    "    def my_base(self):  \n",
    "        print(\"baseclass\")\n",
    "class devclass(self):        \n",
    "    c=300\n",
    "    d=400\n",
    "    def my_dev(self):\n",
    "        print(\"my derived class\"\n",
    "\n",
    "dev_object=devclass()    #object name = class name \n",
    "#derived calss obejct creation ..note:  we can not acces base class object with derived obeject    ...\n",
    "#we can not acces base class object with out in heritance   ....this is sample check below example (next tab)\n",
    "\n",
    "print(dev_object.c,dev_object.d)\n",
    "\n",
    "dev_object.my_dev()\n",
    "\n",
    "print(base_object.a,base_object.b)\n",
    "\n",
    "dev_object.my_class()\n",
    "\n",
    "\n"
   ]
  },
  {
   "cell_type": "code",
   "execution_count": null,
   "id": "03a8963f",
   "metadata": {},
   "outputs": [],
   "source": [
    "# multi level in heritance"
   ]
  },
  {
   "cell_type": "code",
   "execution_count": 36,
   "id": "e8d6dd9e",
   "metadata": {},
   "outputs": [
    {
     "name": "stdout",
     "output_type": "stream",
     "text": [
      "300 400\n",
      "my derived class\n",
      "100 200\n",
      "baseclass\n"
     ]
    }
   ],
   "source": [
    "class baseclass:   # parent class\n",
    "    a=100\n",
    "    b=200\n",
    "    def my_base(self):   \n",
    "        print(\"baseclass\")\n",
    "        \n",
    "        \n",
    "class devclass(baseclass):    # child class       \n",
    "    # above ..we need to mention   base class name in derived ..then only you can access all the attribute from bith base class and derived class\n",
    "    c=300\n",
    "    d=400\n",
    "    def my_dev(self):\n",
    "        print(\"my derived class\")\n",
    "\n",
    "dev_object=devclass()   #object name = class name     \n",
    "\n",
    "print(dev_object.c,dev_object.d)\n",
    "\n",
    "dev_object.my_dev()\n",
    "\n",
    "print(dev_object.a,dev_object.b)\n",
    "\n",
    "dev_object.my_base()\n"
   ]
  },
  {
   "cell_type": "code",
   "execution_count": 51,
   "id": "9bd935c6",
   "metadata": {},
   "outputs": [
    {
     "name": "stdout",
     "output_type": "stream",
     "text": [
      "child method\n",
      "parents method\n",
      "grand parents\n"
     ]
    }
   ],
   "source": [
    "class grandparents():\n",
    "    def gparents(self):\n",
    "        print(\"grand parents\")\n",
    "    \n",
    "class parents(grandparents):\n",
    "     def parent_m(self):\n",
    "            print(\"parents method\")\n",
    "        \n",
    "class child(parents):\n",
    "     def child_m(self):\n",
    "            print(\"child method\")\n",
    "        \n",
    "        #  here child method can aceess all values and method in the class \n",
    "c=child()\n",
    "c.child_m()\n",
    "c.parent_m()\n",
    "c.gparents()"
   ]
  },
  {
   "cell_type": "code",
   "execution_count": 58,
   "id": "01b50ba4",
   "metadata": {},
   "outputs": [
    {
     "name": "stdout",
     "output_type": "stream",
     "text": [
      "parents method\n",
      "grand parents\n"
     ]
    }
   ],
   "source": [
    "class grandparents():   # grand parents class\n",
    "    def gparents(self):\n",
    "        print(\"grand parents\")\n",
    "    \n",
    "class parents(grandparents):      # parent class    \n",
    "     def parent_m(self):\n",
    "            print(\"parents method\")\n",
    "        \n",
    "class child(parents):         #child class\n",
    "     def child_m(self):\n",
    "            print(\"child method\")\n",
    "        \n",
    "\"\"\"c=child()\n",
    "c.child_m()\n",
    "c.parent_m()\n",
    "c.gparents()\"\"\"\n",
    "\n",
    "p=parents() \n",
    "p.parent_m()\n",
    "p.gparents()\n",
    "\n",
    "# note :  here parent method can his values and method and g parents values and methos "
   ]
  },
  {
   "cell_type": "code",
   "execution_count": 62,
   "id": "e56e7b21",
   "metadata": {},
   "outputs": [
    {
     "name": "stdout",
     "output_type": "stream",
     "text": [
      "grand parents\n"
     ]
    },
    {
     "ename": "AttributeError",
     "evalue": "'grandparents' object has no attribute 'parent_m'",
     "output_type": "error",
     "traceback": [
      "\u001b[1;31m---------------------------------------------------------------------------\u001b[0m",
      "\u001b[1;31mAttributeError\u001b[0m                            Traceback (most recent call last)",
      "Input \u001b[1;32mIn [62]\u001b[0m, in \u001b[0;36m<cell line: 25>\u001b[1;34m()\u001b[0m\n\u001b[0;32m     22\u001b[0m g\u001b[38;5;241m=\u001b[39mgrandparents()\n\u001b[0;32m     24\u001b[0m g\u001b[38;5;241m.\u001b[39mgparents()\n\u001b[1;32m---> 25\u001b[0m \u001b[43mg\u001b[49m\u001b[38;5;241;43m.\u001b[39;49m\u001b[43mparent_m\u001b[49m()\n\u001b[0;32m     26\u001b[0m g\u001b[38;5;241m.\u001b[39mchild_m()\n",
      "\u001b[1;31mAttributeError\u001b[0m: 'grandparents' object has no attribute 'parent_m'"
     ]
    }
   ],
   "source": [
    "class grandparents():\n",
    "    def gparents(self):\n",
    "        print(\"grand parents\")\n",
    "    \n",
    "class parents(grandparents):\n",
    "     def parent_m(self):\n",
    "            print(\"parents method\")\n",
    "        \n",
    "class child(parents):\n",
    "     def child_m(self):\n",
    "            print(\"child method\")\n",
    "        \n",
    "'''c=child()\n",
    "c.child_m()\n",
    "c.parent_m()\n",
    "c.gparents()'''\n",
    "\n",
    "'''p=parents() \n",
    "p.parent_m()\n",
    "p.gparents()'''\n",
    "\n",
    "g=grandparents()\n",
    "\n",
    "g.gparents()\n",
    "g.parent_m()\n",
    "g.child_m()\n",
    "\n",
    "\n",
    "# grand prarent can only acces is vales and method.......it cant access parent and child values and mthods\n"
   ]
  },
  {
   "cell_type": "code",
   "execution_count": 50,
   "id": "32c674e7",
   "metadata": {},
   "outputs": [
    {
     "name": "stdout",
     "output_type": "stream",
     "text": [
      "lead experience\n",
      "senior engineer experience\n",
      "jr enigeeer experience\n"
     ]
    }
   ],
   "source": [
    "class jr_soft:\n",
    "    def jr_ex(self):\n",
    "        print(\"jr enigeeer experience\")\n",
    "        \n",
    "class sr_soft(jr_soft):\n",
    "    def sr_ex(self):\n",
    "        print(\"senior engineer experience\")\n",
    "class team_lead(sr_soft):\n",
    "    def lead_ex(self):\n",
    "        print(\"lead experience\")\n",
    "        \n",
    "\n",
    "tl=team_lead()\n",
    "tl.lead_ex()\n",
    "tl.sr_ex()\n",
    "tl.jr_ex()\n",
    "\n"
   ]
  },
  {
   "cell_type": "code",
   "execution_count": null,
   "id": "08097f53",
   "metadata": {},
   "outputs": [],
   "source": []
  }
 ],
 "metadata": {
  "kernelspec": {
   "display_name": "Python 3 (ipykernel)",
   "language": "python",
   "name": "python3"
  },
  "language_info": {
   "codemirror_mode": {
    "name": "ipython",
    "version": 3
   },
   "file_extension": ".py",
   "mimetype": "text/x-python",
   "name": "python",
   "nbconvert_exporter": "python",
   "pygments_lexer": "ipython3",
   "version": "3.9.12"
  }
 },
 "nbformat": 4,
 "nbformat_minor": 5
}
