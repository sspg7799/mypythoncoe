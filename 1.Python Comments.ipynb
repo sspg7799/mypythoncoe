{
 "cells": [
  {
   "cell_type": "code",
   "execution_count": null,
   "id": "25121926",
   "metadata": {},
   "outputs": [],
   "source": [
    "# comment short cut key #    ctul+/  .... to comment and un comment\n",
    "                            \n"
   ]
  },
  {
   "cell_type": "code",
   "execution_count": null,
   "id": "18f9d554",
   "metadata": {},
   "outputs": [],
   "source": [
    "#  select all and ctul+/\n",
    "# print('shiva')\n",
    "# print('jani')\n",
    "# print('sai')"
   ]
  },
  {
   "cell_type": "code",
   "execution_count": 2,
   "id": "40afdf47",
   "metadata": {},
   "outputs": [
    {
     "name": "stdout",
     "output_type": "stream",
     "text": [
      "enter your name shiva prasad\n",
      "my name is shiva prasad\n"
     ]
    }
   ],
   "source": [
    "# write a program to users input\n",
    "\n",
    "name = input('enter your name ')  # input to \n",
    "print(\"my name is\" , name)  # printing the out put"
   ]
  },
  {
   "cell_type": "code",
   "execution_count": 10,
   "id": "36c44c48",
   "metadata": {},
   "outputs": [
    {
     "ename": "SyntaxError",
     "evalue": "EOL while scanning string literal (4222703263.py, line 1)",
     "output_type": "error",
     "traceback": [
      "\u001b[1;36m  Input \u001b[1;32mIn [10]\u001b[1;36m\u001b[0m\n\u001b[1;33m    s=('shiva prasad\")  # hear  i give single and double quotes in input\u001b[0m\n\u001b[1;37m                                                                         ^\u001b[0m\n\u001b[1;31mSyntaxError\u001b[0m\u001b[1;31m:\u001b[0m EOL while scanning string literal\n"
     ]
    }
   ],
   "source": [
    "s=('shiva prasad\")  # hear  i give single and double quotes in input \n",
    "print(s)   "
   ]
  },
  {
   "cell_type": "code",
   "execution_count": 11,
   "id": "8b35ee72",
   "metadata": {},
   "outputs": [
    {
     "name": "stdout",
     "output_type": "stream",
     "text": [
      "shiva prasad\n"
     ]
    }
   ],
   "source": [
    "s=(\"shiva prasad\")\n",
    "print(s) "
   ]
  },
  {
   "cell_type": "code",
   "execution_count": 5,
   "id": "883c459c",
   "metadata": {},
   "outputs": [
    {
     "name": "stdout",
     "output_type": "stream",
     "text": [
      "enter your name prasad\n",
      "enter your age 30\n",
      "my name is  prasad\n",
      "my age is  30\n"
     ]
    }
   ],
   "source": [
    "name = input(\"enter your name \") \n",
    "age =int(input(\"enter your age \"))\n",
    "\n",
    "print(\"my name is \",name)\n",
    "print(\"my age is \" , age)\n",
    "         "
   ]
  },
  {
   "cell_type": "code",
   "execution_count": 7,
   "id": "3cb61cac",
   "metadata": {},
   "outputs": [
    {
     "name": "stdout",
     "output_type": "stream",
     "text": [
      "enter your name shiva\n",
      "enter your age 30\n",
      "enter your marks 45.5\n",
      "my name is  shiva\n",
      "my age is  30\n",
      " marks are  45.5\n"
     ]
    }
   ],
   "source": [
    "name = input(\"enter your name \") \n",
    "age =int(input(\"enter your age \"))\n",
    "marks =float(input(\"enter your marks \"))\n",
    "\n",
    "print(\"my name is \", name)\n",
    "print('my age is ',age )\n",
    "print(\" marks are \", marks)"
   ]
  },
  {
   "cell_type": "code",
   "execution_count": null,
   "id": "ee88a60c",
   "metadata": {},
   "outputs": [],
   "source": []
  }
 ],
 "metadata": {
  "kernelspec": {
   "display_name": "Python 3 (ipykernel)",
   "language": "python",
   "name": "python3"
  },
  "language_info": {
   "codemirror_mode": {
    "name": "ipython",
    "version": 3
   },
   "file_extension": ".py",
   "mimetype": "text/x-python",
   "name": "python",
   "nbconvert_exporter": "python",
   "pygments_lexer": "ipython3",
   "version": "3.9.12"
  }
 },
 "nbformat": 4,
 "nbformat_minor": 5
}
