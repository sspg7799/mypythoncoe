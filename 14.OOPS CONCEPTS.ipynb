{
 "cells": [
  {
   "cell_type": "code",
   "execution_count": 9,
   "id": "144fa7f9",
   "metadata": {},
   "outputs": [
    {
     "name": "stdout",
     "output_type": "stream",
     "text": [
      " white 23  5.11\n"
     ]
    }
   ],
   "source": [
    "class human():\n",
    "    color =\" white\"\n",
    "    age= \"23\"\n",
    "    height =\" 5.11\"\n",
    "    def run (self):\n",
    "        print(\"is running......\")\n",
    "    def walk(self):\n",
    "        print(\"is walking.....\")\n",
    "\n",
    "shiva=human()\n",
    "print(shiva.color,shiva.age,shiva.height)"
   ]
  },
  {
   "cell_type": "code",
   "execution_count": 10,
   "id": "db9c1f6c",
   "metadata": {},
   "outputs": [
    {
     "name": "stdout",
     "output_type": "stream",
     "text": [
      " white 23  5.11\n",
      "shiva is running......\n",
      "shiva is walking.....\n"
     ]
    }
   ],
   "source": [
    "class human():   # class\n",
    "    color =\" white\"        # attributes \n",
    "    age= \"23\"              # attributes \n",
    "    height =\" 5.11\"          # attributes \n",
    "    def run (self):\n",
    "        print(\"shiva is running......\")    # methods   \n",
    "    def walk(self):\n",
    "        print(\"shiva is walking.....\")\n",
    "\n",
    "shiva=human()  # object creation \n",
    "print(shiva.color,shiva.age,shiva.height)\n",
    "\n",
    "shiva.run()\n",
    "shiva.walk()"
   ]
  },
  {
   "cell_type": "code",
   "execution_count": 11,
   "id": "3ae57ff0",
   "metadata": {},
   "outputs": [
    {
     "data": {
      "text/plain": [
       "<__main__.human at 0x139b6ff8340>"
      ]
     },
     "execution_count": 11,
     "metadata": {},
     "output_type": "execute_result"
    }
   ],
   "source": [
    "class human():  # class\n",
    "    color =\" white\"\n",
    "    age= \"23\"         # attributes \n",
    "    height =\" 5.11\"\n",
    "    def run (self):\n",
    "        print(\"shiva is running......\")\n",
    "    def walk(self):\n",
    "        print(\"shiva is walking.....\")\n",
    "\n",
    "human()  #  function calling"
   ]
  },
  {
   "cell_type": "code",
   "execution_count": 33,
   "id": "ed7bc4cd",
   "metadata": {},
   "outputs": [
    {
     "name": "stdout",
     "output_type": "stream",
     "text": [
      "print constror\n",
      "print constror\n"
     ]
    }
   ],
   "source": [
    "# constructor\n",
    "\n",
    "class human():  # classs\n",
    "    def __init__(self):   # constructor\n",
    "        print(\"print constror\")\n",
    "        \n",
    "human()   # object\n",
    "shiva=human()  \n",
    "\n",
    "# when ever we call the object...1st it will call constructor "
   ]
  },
  {
   "cell_type": "code",
   "execution_count": 36,
   "id": "23b19ecc",
   "metadata": {},
   "outputs": [
    {
     "name": "stdout",
     "output_type": "stream",
     "text": [
      "print constror\n"
     ]
    },
    {
     "data": {
      "text/plain": [
       "<__main__.human at 0x139b6de7730>"
      ]
     },
     "execution_count": 36,
     "metadata": {},
     "output_type": "execute_result"
    }
   ],
   "source": [
    "# constructor\n",
    "\n",
    "class human():  # classs\n",
    "    def __init__(self):   # constructor\n",
    "        print(\"print constror\")\n",
    "        \n",
    "human()   # object\n",
    "# when ever we call the object...1st it will call constructor "
   ]
  },
  {
   "cell_type": "code",
   "execution_count": 35,
   "id": "76aecbc9",
   "metadata": {},
   "outputs": [],
   "source": [
    "# constructor\n",
    "\n",
    "class human():  # classs\n",
    "    #def __init__(self):   # constructor\n",
    "     #   print(\"print constror\")  \n",
    "        \n",
    "    def run (self):                           #methods\n",
    "        print(\"shiva is running......\")\n",
    "    def walk(self):\n",
    "        print(\"shiva is walking.....\")         # methos\n",
    "        \n",
    "shiva=human()   # object\n",
    "# when ever we call the object...1st it will call constructor "
   ]
  },
  {
   "cell_type": "code",
   "execution_count": 43,
   "id": "0d7f3924",
   "metadata": {},
   "outputs": [
    {
     "name": "stdout",
     "output_type": "stream",
     "text": [
      "white 80 11.5\n"
     ]
    }
   ],
   "source": [
    "class human:\n",
    "    def __init__(self,clr,wgt,ht):\n",
    "        self.color=clr\n",
    "        self.weight=wgt\n",
    "        self.height=ht\n",
    "        \n",
    "shiva=human(\"white\",80,11.5)\n",
    "print(shiva.color,shiva.weight,shiva.height)"
   ]
  },
  {
   "cell_type": "code",
   "execution_count": 51,
   "id": "9cb802eb",
   "metadata": {},
   "outputs": [
    {
     "name": "stdout",
     "output_type": "stream",
     "text": [
      "red 2022 toyota\n",
      "yellow 2023 innova\n"
     ]
    }
   ],
   "source": [
    "class car:    # classs\n",
    "    def __init__(self,c,m,cm):  # attribute\n",
    "        self.color=c  # attributes\n",
    "        self.model=m      # attributes\n",
    "        self.company=cm     # attributes\n",
    "\n",
    "ford = car(\"red\",2022,\"toyota\")     # object creation\n",
    "print(ford.color,ford.model,ford.company)   # object  calling \n",
    "\n",
    "toyota=car(\"yellow\",2023,\"innova\")          # object creation\n",
    "print(toyota.color,toyota.model,toyota.company)  # object  calling "
   ]
  },
  {
   "cell_type": "code",
   "execution_count": 20,
   "id": "f803f83a",
   "metadata": {},
   "outputs": [
    {
     "name": "stdout",
     "output_type": "stream",
     "text": [
      "blue 86 55.65\n",
      "white 75 223.22\n",
      "shiva is running\n",
      "venu is running\n",
      "shiva is walking\n",
      "venu is walking\n"
     ]
    }
   ],
   "source": [
    "class human:         #class\n",
    "    def __init__(self,clr,wgt,ht):    # constructor\n",
    "        self.color=clr                   # attributes\n",
    "        self.weight=wgt                    # attributes\n",
    "        self.height=ht                    # attributes\n",
    "        \n",
    "    def run(self, s):         #method\n",
    "        print(s+\" is running\")\n",
    "    def walk(self,s):               #method\n",
    "        print(s+ \" is walking\")\n",
    "\n",
    "shiva=human(\"blue\",86,55.65)\n",
    "print(shiva.color,shiva.weight,shiva.height)\n",
    "\n",
    "venu=human(\"white\",75,223.22)\n",
    "print(venu.color,venu.weight,venu.height)\n",
    "\n",
    "\n",
    "shiva.run(\"shiva\")\n",
    "\n",
    "venu.run(\"venu\")\n",
    "\n",
    "\n",
    "shiva.walk(\"shiva\")     \n",
    "\n",
    "venu.walk(\"venu\")"
   ]
  },
  {
   "cell_type": "code",
   "execution_count": null,
   "id": "cd454037",
   "metadata": {},
   "outputs": [],
   "source": [
    "# in heritance"
   ]
  }
 ],
 "metadata": {
  "kernelspec": {
   "display_name": "Python 3 (ipykernel)",
   "language": "python",
   "name": "python3"
  },
  "language_info": {
   "codemirror_mode": {
    "name": "ipython",
    "version": 3
   },
   "file_extension": ".py",
   "mimetype": "text/x-python",
   "name": "python",
   "nbconvert_exporter": "python",
   "pygments_lexer": "ipython3",
   "version": "3.9.12"
  }
 },
 "nbformat": 4,
 "nbformat_minor": 5
}
