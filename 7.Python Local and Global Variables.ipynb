{
 "cells": [
  {
   "cell_type": "code",
   "execution_count": 6,
   "id": "cc98f183",
   "metadata": {},
   "outputs": [
    {
     "name": "stdout",
     "output_type": "stream",
     "text": [
      "how are you \n"
     ]
    }
   ],
   "source": [
    "message = \"how are you \"   # global varible or outside variable\n",
    "\n",
    "def bigdata():\n",
    "    \n",
    "    print(message)\n",
    "\n",
    "bigdata()"
   ]
  },
  {
   "cell_type": "code",
   "execution_count": 8,
   "id": "39d541f8",
   "metadata": {},
   "outputs": [
    {
     "name": "stdout",
     "output_type": "stream",
     "text": [
      "exam will start with in one week\n"
     ]
    }
   ],
   "source": [
    "ansment = \"exam will start with in one week\"\n",
    "\n",
    "def exams():\n",
    "    print(ansment)\n",
    "    \n",
    "exams()"
   ]
  },
  {
   "cell_type": "code",
   "execution_count": 14,
   "id": "ae500186",
   "metadata": {},
   "outputs": [
    {
     "name": "stdout",
     "output_type": "stream",
     "text": [
      "internal function:  internal exams will start with in hour \n",
      "outside function: exam will start with in one week\n"
     ]
    }
   ],
   "source": [
    "# local variable and global variable\n",
    "\n",
    "ansment = \"exam will start with in one week\"\n",
    "\n",
    "def exams():\n",
    "    ansment =\" internal exams will start with in hour \"  # local variable \n",
    "    print(\"internal function:\" ,ansment)\n",
    "    \n",
    "    \n",
    "exams()\n",
    "print(\"outside function:\", ansment)\n"
   ]
  },
  {
   "cell_type": "code",
   "execution_count": 15,
   "id": "4227924d",
   "metadata": {},
   "outputs": [
    {
     "name": "stdout",
     "output_type": "stream",
     "text": [
      "internal function:  internal exams will start with in hour \n",
      "outside function:  internal exams will start with in hour \n"
     ]
    }
   ],
   "source": [
    "# if you need change global variable inside the function  ....we can achive this using global key word\n",
    "\n",
    "\n",
    "ansment = \"exam will start with in one week\"\n",
    "\n",
    "def exams():\n",
    "    global ansment   #  global key word\n",
    "    ansment =\" internal exams will start with in hour \"  # local variable \n",
    "    print(\"internal function:\" ,ansment)\n",
    "    \n",
    "    \n",
    "exams()\n",
    "print(\"outside function:\", ansment)"
   ]
  },
  {
   "cell_type": "code",
   "execution_count": null,
   "id": "b41397c7",
   "metadata": {},
   "outputs": [],
   "source": []
  }
 ],
 "metadata": {
  "kernelspec": {
   "display_name": "Python 3 (ipykernel)",
   "language": "python",
   "name": "python3"
  },
  "language_info": {
   "codemirror_mode": {
    "name": "ipython",
    "version": 3
   },
   "file_extension": ".py",
   "mimetype": "text/x-python",
   "name": "python",
   "nbconvert_exporter": "python",
   "pygments_lexer": "ipython3",
   "version": "3.9.12"
  }
 },
 "nbformat": 4,
 "nbformat_minor": 5
}
