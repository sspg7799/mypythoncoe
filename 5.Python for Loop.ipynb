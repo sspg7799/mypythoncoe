{
 "cells": [
  {
   "cell_type": "code",
   "execution_count": 12,
   "id": "3491034c",
   "metadata": {},
   "outputs": [
    {
     "name": "stdout",
     "output_type": "stream",
     "text": [
      "appleis fruit\n",
      "banannais fruit\n",
      "carrortis fruit\n"
     ]
    }
   ],
   "source": [
    "list = [\"apple\",'bananna',\"carrort\"]\n",
    "\n",
    "for i in list:\n",
    "    print(i + \"is fruit\")"
   ]
  },
  {
   "cell_type": "code",
   "execution_count": 11,
   "id": "f7d41ac5",
   "metadata": {},
   "outputs": [
    {
     "name": "stdout",
     "output_type": "stream",
     "text": [
      "carrortis a fruits\n"
     ]
    }
   ],
   "source": [
    "list=[\"apple\"]\n",
    "\n",
    "for x in list:\n",
    "    print(i+ \"is a fruits\")"
   ]
  },
  {
   "cell_type": "code",
   "execution_count": 13,
   "id": "412cd861",
   "metadata": {},
   "outputs": [
    {
     "name": "stdout",
     "output_type": "stream",
     "text": [
      " \n",
      "s\n",
      "h\n",
      "i\n",
      "v\n",
      "a\n",
      " \n",
      "p\n",
      "r\n",
      "a\n",
      "s\n",
      "a\n",
      "d\n",
      " \n",
      "g\n",
      "o\n",
      "u\n",
      "d\n"
     ]
    }
   ],
   "source": [
    " name = \" shiva prasad goud\"\n",
    "\n",
    "for i in name:\n",
    "    print(i)"
   ]
  },
  {
   "cell_type": "code",
   "execution_count": 15,
   "id": "1adabb6f",
   "metadata": {},
   "outputs": [
    {
     "name": "stdout",
     "output_type": "stream",
     "text": [
      "1\n",
      "2\n",
      "3\n",
      "4\n",
      "5\n",
      "6\n",
      "7\n",
      "8\n",
      "9\n",
      "10\n"
     ]
    }
   ],
   "source": [
    "for i in range(1,11):\n",
    "    print(i)"
   ]
  },
  {
   "cell_type": "code",
   "execution_count": 17,
   "id": "03121dbf",
   "metadata": {},
   "outputs": [
    {
     "name": "stdout",
     "output_type": "stream",
     "text": [
      "1\n",
      "3\n",
      "5\n",
      "7\n",
      "9\n",
      "11\n",
      "13\n",
      "15\n",
      "17\n",
      "19\n"
     ]
    }
   ],
   "source": [
    "for i in range (1,21,2):\n",
    "    print(i)"
   ]
  },
  {
   "cell_type": "code",
   "execution_count": null,
   "id": "8d2dd314",
   "metadata": {},
   "outputs": [],
   "source": [
    "a=int(input(\"enter the value:\"))\n",
    "\n",
    "for i in a:\n",
    "    sum%2==0\n",
    "    "
   ]
  },
  {
   "cell_type": "code",
   "execution_count": null,
   "id": "17e9e432",
   "metadata": {},
   "outputs": [],
   "source": []
  }
 ],
 "metadata": {
  "kernelspec": {
   "display_name": "Python 3 (ipykernel)",
   "language": "python",
   "name": "python3"
  },
  "language_info": {
   "codemirror_mode": {
    "name": "ipython",
    "version": 3
   },
   "file_extension": ".py",
   "mimetype": "text/x-python",
   "name": "python",
   "nbconvert_exporter": "python",
   "pygments_lexer": "ipython3",
   "version": "3.9.12"
  }
 },
 "nbformat": 4,
 "nbformat_minor": 5
}
