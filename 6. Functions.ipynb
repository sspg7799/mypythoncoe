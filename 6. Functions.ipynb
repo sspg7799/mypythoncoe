{
 "cells": [
  {
   "cell_type": "code",
   "execution_count": 14,
   "id": "2234c982",
   "metadata": {},
   "outputs": [],
   "source": [
    "# functions\n",
    "\n",
    "def function_name(arguments):\n",
    "    # function body \n",
    "\n",
    "    return"
   ]
  },
  {
   "cell_type": "markdown",
   "id": "7c4bc163",
   "metadata": {},
   "source": [
    "# Here,\n",
    "\n",
    "# def - keyword used to declare a function\n",
    "\n",
    "# function_name - any name given to the function\n",
    "\n",
    "# arguments - any value passed to function\n",
    "\n",
    "# return (optional) - returns value from a function"
   ]
  },
  {
   "cell_type": "code",
   "execution_count": 5,
   "id": "0c6dd52a",
   "metadata": {},
   "outputs": [],
   "source": [
    "def shiva(): #  function creation\n",
    "\n",
    "    print('hello')\n",
    "    print('shiva')\n",
    "    \n",
    "    # we need call the function ...."
   ]
  },
  {
   "cell_type": "code",
   "execution_count": 7,
   "id": "3111ed43",
   "metadata": {},
   "outputs": [
    {
     "name": "stdout",
     "output_type": "stream",
     "text": [
      "hello\n",
      "shiva\n"
     ]
    }
   ],
   "source": [
    " def shiva():       #  function creation\n",
    "    print('hello')\n",
    "    print('shiva')    \n",
    "    # we need call the function ....\n",
    "shiva()"
   ]
  },
  {
   "cell_type": "code",
   "execution_count": 12,
   "id": "17753a20",
   "metadata": {},
   "outputs": [
    {
     "name": "stdout",
     "output_type": "stream",
     "text": [
      "hello\n",
      "shiva\n"
     ]
    },
    {
     "data": {
      "text/plain": [
       "<function __main__.shiva()>"
      ]
     },
     "execution_count": 12,
     "metadata": {},
     "output_type": "execute_result"
    }
   ],
   "source": [
    " def shiva():       #  function creation\n",
    "    print('hello')\n",
    "    print(\"shiva\")\n",
    "    return shiva\n",
    "\n",
    "shiva()"
   ]
  },
  {
   "cell_type": "code",
   "execution_count": 38,
   "id": "a2e61b7e",
   "metadata": {},
   "outputs": [
    {
     "name": "stdout",
     "output_type": "stream",
     "text": [
      "hey hello\n",
      "how are you \n"
     ]
    }
   ],
   "source": [
    "def name ():\n",
    "    print(\"hey hello\")\n",
    "    print(\"how are you \")\n",
    "name()"
   ]
  },
  {
   "cell_type": "code",
   "execution_count": 40,
   "id": "2b997ca9",
   "metadata": {},
   "outputs": [
    {
     "name": "stdout",
     "output_type": "stream",
     "text": [
      "hey hello: shiva prasad\n",
      "how are you : shiva prasad\n"
     ]
    }
   ],
   "source": [
    "def my_names(name):   # name ...variable\n",
    "    print(\"hey hello:\",name)\n",
    "    print(\"how are you :\",name)\n",
    "    \n",
    "my_names(\"shiva prasad\")  #\"shiva prasad \"  argument"
   ]
  },
  {
   "cell_type": "code",
   "execution_count": 58,
   "id": "650267a0",
   "metadata": {},
   "outputs": [
    {
     "name": "stdout",
     "output_type": "stream",
     "text": [
      "sum of : 77\n"
     ]
    }
   ],
   "source": [
    "def add_num(n1,n2):\n",
    "    result =n1 + n2\n",
    "    #return result\n",
    "    print(\"sum of :\", result)\n",
    "    \n",
    "num1=22\n",
    "num2=55\n",
    "add_num(num1,num2)\n"
   ]
  },
  {
   "cell_type": "code",
   "execution_count": 65,
   "id": "094b6f8c",
   "metadata": {},
   "outputs": [
    {
     "name": "stdout",
     "output_type": "stream",
     "text": [
      "sum of : 77\n"
     ]
    }
   ],
   "source": [
    "def add_num(n1,n2):\n",
    "    result =n1 + n2\n",
    "    #return result\n",
    "    print(\"sum of :\", result)\n",
    "    \n",
    "#numers=22,55\n",
    "add_num(22,55)"
   ]
  },
  {
   "cell_type": "code",
   "execution_count": 66,
   "id": "2551ee69",
   "metadata": {},
   "outputs": [
    {
     "name": "stdout",
     "output_type": "stream",
     "text": [
      "sum of mynum: 143\n"
     ]
    }
   ],
   "source": [
    "\n",
    "def my_num (s1,s2):\n",
    "    result=s1+s2\n",
    "    print(\"sum of mynum:\" , result)\n",
    "\n",
    "number1=66\n",
    "number2=77\n",
    "my_num(number1,number2)"
   ]
  },
  {
   "cell_type": "code",
   "execution_count": 70,
   "id": "685f0525",
   "metadata": {},
   "outputs": [
    {
     "name": "stdout",
     "output_type": "stream",
     "text": [
      "sum of mynum: 143\n"
     ]
    }
   ],
   "source": [
    "def my_num (s1,s2):\n",
    "    result=s1+s2\n",
    "    #return result\n",
    "    print(\"sum of mynum:\" , result)\n",
    "\n",
    "num1=66\n",
    "number2=77\n",
    "result=my_num(num1,num2)\n"
   ]
  },
  {
   "cell_type": "code",
   "execution_count": 1,
   "id": "16419375",
   "metadata": {},
   "outputs": [
    {
     "name": "stdout",
     "output_type": "stream",
     "text": [
      "hello yaar.......:\n",
      "namasthe yaaar.....:\n"
     ]
    }
   ],
   "source": [
    "def shiva():\n",
    "    print (\"hello yaar.......:\")\n",
    "    print(\"namasthe yaaar.....:\")\n",
    "\n",
    "shiva()"
   ]
  },
  {
   "cell_type": "code",
   "execution_count": 2,
   "id": "4cf3acbf",
   "metadata": {},
   "outputs": [
    {
     "ename": "TypeError",
     "evalue": "shiva() missing 1 required positional argument: 'name'",
     "output_type": "error",
     "traceback": [
      "\u001b[1;31m---------------------------------------------------------------------------\u001b[0m",
      "\u001b[1;31mTypeError\u001b[0m                                 Traceback (most recent call last)",
      "Input \u001b[1;32mIn [2]\u001b[0m, in \u001b[0;36m<cell line: 5>\u001b[1;34m()\u001b[0m\n\u001b[0;32m      2\u001b[0m     \u001b[38;5;28mprint\u001b[39m (\u001b[38;5;124m\"\u001b[39m\u001b[38;5;124mhello yaar.......:\u001b[39m\u001b[38;5;124m\"\u001b[39m,name)\n\u001b[0;32m      3\u001b[0m     \u001b[38;5;28mprint\u001b[39m(\u001b[38;5;124m\"\u001b[39m\u001b[38;5;124mnamasthe yaaar.....:\u001b[39m\u001b[38;5;124m\"\u001b[39m,name)\n\u001b[1;32m----> 5\u001b[0m \u001b[43mshiva\u001b[49m\u001b[43m(\u001b[49m\u001b[43m)\u001b[49m\n",
      "\u001b[1;31mTypeError\u001b[0m: shiva() missing 1 required positional argument: 'name'"
     ]
    }
   ],
   "source": [
    "def shiva(name):\n",
    "    print (\"hello yaar.......:\",name)\n",
    "    print(\"namasthe yaaar.....:\",name)\n",
    "\n",
    "shiva()\n",
    "#shiva(\"prasad goud\")"
   ]
  },
  {
   "cell_type": "code",
   "execution_count": 3,
   "id": "816058b1",
   "metadata": {},
   "outputs": [
    {
     "name": "stdout",
     "output_type": "stream",
     "text": [
      "hello yaar.......: prasad goud\n",
      "namasthe yaaar.....: prasad goud\n"
     ]
    }
   ],
   "source": [
    "def shiva(name):\n",
    "    print (\"hello yaar.......:\",name)\n",
    "    print(\"namasthe yaaar.....:\",name)\n",
    "\n",
    "#shiva()     \n",
    "shiva(\"prasad goud\")"
   ]
  },
  {
   "cell_type": "code",
   "execution_count": 4,
   "id": "be558e6f",
   "metadata": {},
   "outputs": [
    {
     "name": "stdout",
     "output_type": "stream",
     "text": [
      "hello yaar.......: prasad goud\n",
      "my car is i20.....: toyato\n"
     ]
    }
   ],
   "source": [
    "def shiva(name):\n",
    "    print (\"hello yaar.......:\",name)\n",
    "    \n",
    "def vehicle(car):\n",
    "    print(\"my car is i20.....:\",car)\n",
    "    \n",
    "shiva(\"prasad goud\")\n",
    "vehicle(\"toyato\")"
   ]
  },
  {
   "cell_type": "code",
   "execution_count": 5,
   "id": "796a45c1",
   "metadata": {},
   "outputs": [
    {
     "name": "stdout",
     "output_type": "stream",
     "text": [
      "hello yaar.......: prasad goud\n",
      "namasthe yaaar.....: prasad goud\n"
     ]
    }
   ],
   "source": [
    "def name(shiva):\n",
    "    print (\"hello yaar.......:\",shiva)\n",
    "    print(\"namasthe yaaar.....:\",shiva)\n",
    "\n",
    "#shiva()     \n",
    "name(\"prasad goud\")"
   ]
  },
  {
   "cell_type": "code",
   "execution_count": null,
   "id": "66c49d8c",
   "metadata": {},
   "outputs": [],
   "source": []
  }
 ],
 "metadata": {
  "kernelspec": {
   "display_name": "Python 3 (ipykernel)",
   "language": "python",
   "name": "python3"
  },
  "language_info": {
   "codemirror_mode": {
    "name": "ipython",
    "version": 3
   },
   "file_extension": ".py",
   "mimetype": "text/x-python",
   "name": "python",
   "nbconvert_exporter": "python",
   "pygments_lexer": "ipython3",
   "version": "3.9.12"
  }
 },
 "nbformat": 4,
 "nbformat_minor": 5
}
