{
 "cells": [
  {
   "cell_type": "code",
   "execution_count": 1,
   "id": "ffb9b846",
   "metadata": {},
   "outputs": [
    {
     "name": "stdout",
     "output_type": "stream",
     "text": [
      "C:\\Users\\sspg7\\python ATOZ\n"
     ]
    }
   ],
   "source": [
    "# to get current directory\n",
    "import os\n",
    "current_dir=os.getcwd()\n",
    "print(current_dir)"
   ]
  },
  {
   "cell_type": "code",
   "execution_count": 17,
   "id": "3db3a0eb",
   "metadata": {},
   "outputs": [],
   "source": [
    "#making directory using py code\n",
    "\n",
    "import os \n",
    "\n",
    "os.mkdir(\"samplepy\")\n"
   ]
  },
  {
   "cell_type": "code",
   "execution_count": 24,
   "id": "075252a9",
   "metadata": {},
   "outputs": [],
   "source": [
    "with open (\"sample.txt\",\"w\") as wmd:\n",
    "    wmd.write(\" i am crated file using code\")"
   ]
  },
  {
   "cell_type": "code",
   "execution_count": 29,
   "id": "b51cb9ef",
   "metadata": {},
   "outputs": [
    {
     "name": "stdout",
     "output_type": "stream",
     "text": [
      " i am crated file using code\n"
     ]
    }
   ],
   "source": [
    "with open (\"sample.txt\",\"r\") as rdm:\n",
    "    redmode=rdm.readline()\n",
    "    print(redmode)"
   ]
  },
  {
   "cell_type": "code",
   "execution_count": 27,
   "id": "786f7bd0",
   "metadata": {},
   "outputs": [],
   "source": [
    "with open (\"hello.txt\",\"w\") as wmd:\n",
    "    wmd.write(\" i  hello am crated file using code\")"
   ]
  },
  {
   "cell_type": "code",
   "execution_count": 30,
   "id": "7e66b733",
   "metadata": {},
   "outputs": [
    {
     "name": "stdout",
     "output_type": "stream",
     "text": [
      "[' i  hello am crated file using code']\n"
     ]
    }
   ],
   "source": [
    "with open(\"hello.txt\",\"r\") as out:\n",
    "    output=out.readlines()  # readline to read \n",
    "    print(output)"
   ]
  },
  {
   "cell_type": "code",
   "execution_count": null,
   "id": "f877e79e",
   "metadata": {},
   "outputs": [],
   "source": []
  }
 ],
 "metadata": {
  "kernelspec": {
   "display_name": "Python 3 (ipykernel)",
   "language": "python",
   "name": "python3"
  },
  "language_info": {
   "codemirror_mode": {
    "name": "ipython",
    "version": 3
   },
   "file_extension": ".py",
   "mimetype": "text/x-python",
   "name": "python",
   "nbconvert_exporter": "python",
   "pygments_lexer": "ipython3",
   "version": "3.9.12"
  }
 },
 "nbformat": 4,
 "nbformat_minor": 5
}
