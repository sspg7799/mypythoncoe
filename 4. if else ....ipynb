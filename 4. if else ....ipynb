{
 "cells": [
  {
   "cell_type": "code",
   "execution_count": 1,
   "id": "c3f3e690",
   "metadata": {},
   "outputs": [],
   "source": [
    "# In Python, there are three forms of the if...else statement.\n",
    "\n",
    "# if statement\n",
    "# if...else statement\n",
    "# if...elif...else statement"
   ]
  },
  {
   "cell_type": "code",
   "execution_count": null,
   "id": "8a8debf8",
   "metadata": {},
   "outputs": [],
   "source": [
    "# if expression:  \n",
    "#     statement  "
   ]
  },
  {
   "cell_type": "code",
   "execution_count": null,
   "id": "eff67500",
   "metadata": {},
   "outputs": [],
   "source": [
    "# Python supports the usual logical conditions from mathematics:\n",
    "\n",
    "# Equals: a == b\n",
    "# Not Equals: a != b\n",
    "# Less than: a < b\n",
    "# Less than or equal to: a <= b\n",
    "# Greater than: a > b\n",
    "# Greater than or equal to: a >= b\n",
    "# These conditions can be used in several ways, most commonly in \"if statements\" and loops."
   ]
  },
  {
   "cell_type": "code",
   "execution_count": 8,
   "id": "dcf0841d",
   "metadata": {},
   "outputs": [
    {
     "name": "stdout",
     "output_type": "stream",
     "text": [
      "enter your marks:25\n"
     ]
    }
   ],
   "source": [
    "# if statement \n",
    "\n",
    "score = int(input(\"enter your marks:\"))\n",
    "\n",
    "if score >=50:\n",
    "    print(\"you are promoted\")\n",
    "    print(\"congrats\")"
   ]
  },
  {
   "cell_type": "code",
   "execution_count": 9,
   "id": "f49e2cc1",
   "metadata": {},
   "outputs": [
    {
     "name": "stdout",
     "output_type": "stream",
     "text": [
      "enter your marks:75\n",
      "you are promoted\n",
      "congrats\n"
     ]
    }
   ],
   "source": [
    "# if statement \n",
    "\n",
    "score = int(input(\"enter your marks:\"))\n",
    "\n",
    "if score >=50:\n",
    "    print(\"you are promoted\")\n",
    "    print(\"congrats\")"
   ]
  },
  {
   "cell_type": "code",
   "execution_count": 10,
   "id": "41275eaa",
   "metadata": {},
   "outputs": [
    {
     "name": "stdout",
     "output_type": "stream",
     "text": [
      "enter your marks:35\n",
      "you are not promted\n"
     ]
    }
   ],
   "source": [
    "# if statement \n",
    "\n",
    "score = int(input(\"enter your marks:\"))\n",
    "\n",
    "if score >=50:\n",
    "    print(\"you are promoted\")\n",
    "    print(\"congrats\")\n",
    "    \n",
    "else:\n",
    "    print(\"you are not promted\")"
   ]
  },
  {
   "cell_type": "code",
   "execution_count": 14,
   "id": "5c1ff2ac",
   "metadata": {},
   "outputs": [
    {
     "name": "stdout",
     "output_type": "stream",
     "text": [
      "enter values:3\n"
     ]
    }
   ],
   "source": [
    "num =int(input(\"enter values:\"))  # odd number 3\n",
    "if num%2==0:\n",
    "    print(\"even number\")\n"
   ]
  },
  {
   "cell_type": "code",
   "execution_count": 15,
   "id": "164be3e7",
   "metadata": {},
   "outputs": [
    {
     "name": "stdout",
     "output_type": "stream",
     "text": [
      "enter values:2\n",
      "even number\n"
     ]
    }
   ],
   "source": [
    "num =int(input(\"enter values:\"))  # 2 is even num so condition is satisfied \n",
    "if num%2==0:\n",
    "    print(\"even number\")\n"
   ]
  },
  {
   "cell_type": "code",
   "execution_count": 23,
   "id": "74200e99",
   "metadata": {},
   "outputs": [
    {
     "name": "stdout",
     "output_type": "stream",
     "text": [
      "enter the value:2\n",
      "even num\n"
     ]
    }
   ],
   "source": [
    "num = int(input(\"enter the value:\"))\n",
    "if num%2==0:\n",
    "    print(\"even num\")\n",
    "else:\n",
    "    print(\"odd num\")\n"
   ]
  },
  {
   "cell_type": "code",
   "execution_count": 25,
   "id": "1d8db8b4",
   "metadata": {},
   "outputs": [
    {
     "name": "stdout",
     "output_type": "stream",
     "text": [
      "enter values:4\n"
     ]
    }
   ],
   "source": [
    "num =int(input(\"enter values:\"))\n",
    "if num%2==1:\n",
    "    print(\"oddnum\")\n",
    "    "
   ]
  },
  {
   "cell_type": "code",
   "execution_count": 26,
   "id": "4beacf0b",
   "metadata": {},
   "outputs": [
    {
     "name": "stdout",
     "output_type": "stream",
     "text": [
      "enter values:3\n",
      "oddnum\n"
     ]
    }
   ],
   "source": [
    "num =int(input(\"enter values:\"))\n",
    "if num%2==1:\n",
    "    print(\"oddnum\")\n",
    "else:\n",
    "    print(\"evennum\")"
   ]
  },
  {
   "cell_type": "code",
   "execution_count": 16,
   "id": "d32709f5",
   "metadata": {},
   "outputs": [
    {
     "name": "stdout",
     "output_type": "stream",
     "text": [
      "enter values:3\n",
      "oddnum\n"
     ]
    }
   ],
   "source": [
    "num =int(input(\"enter values:\"))\n",
    "if num%2==1:\n",
    "    print(\"oddnum\")"
   ]
  },
  {
   "cell_type": "code",
   "execution_count": 18,
   "id": "b29e33f9",
   "metadata": {},
   "outputs": [
    {
     "name": "stdout",
     "output_type": "stream",
     "text": [
      "enter the values:99\n"
     ]
    }
   ],
   "source": [
    "num1 = int(input(\"enter the values:\"))\n",
    "\n",
    "if num1>100:\n",
    "    print(\"greather than 100\")"
   ]
  },
  {
   "cell_type": "code",
   "execution_count": 19,
   "id": "028c34d2",
   "metadata": {},
   "outputs": [
    {
     "name": "stdout",
     "output_type": "stream",
     "text": [
      "enter the values:120\n",
      "greather than 100\n"
     ]
    }
   ],
   "source": [
    "num1 = int(input(\"enter the values:\"))\n",
    "\n",
    "if num1>100:\n",
    "    print(\"greather than 100\")\n",
    "    "
   ]
  },
  {
   "cell_type": "code",
   "execution_count": 28,
   "id": "9f19c0e2",
   "metadata": {},
   "outputs": [
    {
     "name": "stdout",
     "output_type": "stream",
     "text": [
      "enter the values:25\n",
      "less than 100\n"
     ]
    }
   ],
   "source": [
    "num1 = int(input(\"enter the values:\"))\n",
    "\n",
    "if num1>100:\n",
    "    print(\"greather than 100\")\n",
    "else:\n",
    "    print(\"less than 100\")"
   ]
  },
  {
   "cell_type": "code",
   "execution_count": 31,
   "id": "becc89a6",
   "metadata": {},
   "outputs": [
    {
     "name": "stdout",
     "output_type": "stream",
     "text": [
      "b is bigger than a\n"
     ]
    }
   ],
   "source": [
    "a=20\n",
    "b=30\n",
    "\n",
    "if b>a:\n",
    "    print(\"b is bigger than a\")"
   ]
  },
  {
   "cell_type": "code",
   "execution_count": null,
   "id": "16d37fc4",
   "metadata": {},
   "outputs": [],
   "source": [
    "a=20\n",
    "b=20\n",
    "\n",
    "if b>a:\n",
    "    print(\"b is bigger than a\")\n",
    "elif b==a:\n",
    "    print(\"both are equal\")\n",
    "    "
   ]
  },
  {
   "cell_type": "code",
   "execution_count": 39,
   "id": "adcbaa6e",
   "metadata": {},
   "outputs": [
    {
     "name": "stdout",
     "output_type": "stream",
     "text": [
      " a is big\n"
     ]
    }
   ],
   "source": [
    "a=42\n",
    "b=20\n",
    "\n",
    "if b<a:\n",
    "    print(\" a is big\")\n",
    "elif a==b:\n",
    "    print(\"both are equal \")\n",
    "else:\n",
    "    print(\"both are not equal\" )\n"
   ]
  },
  {
   "cell_type": "code",
   "execution_count": null,
   "id": "65ab1067",
   "metadata": {},
   "outputs": [],
   "source": [
    "# if condition:  \n",
    "#     #block of statements   \n",
    "# else:   \n",
    "#     #another block of statements (else-block)  "
   ]
  },
  {
   "cell_type": "code",
   "execution_count": 1,
   "id": "658e4960",
   "metadata": {},
   "outputs": [
    {
     "name": "stdout",
     "output_type": "stream",
     "text": [
      " a is big\n"
     ]
    }
   ],
   "source": [
    "a=42\n",
    "b=20\n",
    "\n",
    "if b<a:\n",
    "    print(\" a is big\")\n",
    "elif a==b:\n",
    "    print(\"both are equal \")\n",
    "else:\n",
    "    print(\"both are not equal\" )"
   ]
  },
  {
   "cell_type": "code",
   "execution_count": 3,
   "id": "b256c025",
   "metadata": {},
   "outputs": [
    {
     "name": "stdout",
     "output_type": "stream",
     "text": [
      "enter a value:25\n",
      "enter b value:25\n",
      "both are  equal\n"
     ]
    }
   ],
   "source": [
    "a=int(input(\"enter a value:\"))\n",
    "b=int(input(\"enter b value:\"))\n",
    "\n",
    "if a>b:\n",
    "    print(\" a is big\")\n",
    "elif b>a:\n",
    "    print(\"b is big\")\n",
    "else:\n",
    "    print(\"both are  equal\" )"
   ]
  },
  {
   "cell_type": "code",
   "execution_count": 5,
   "id": "cd38bb04",
   "metadata": {},
   "outputs": [
    {
     "name": "stdout",
     "output_type": "stream",
     "text": [
      "enter age :52\n",
      "you are eligible to vote\n"
     ]
    }
   ],
   "source": [
    "# Example 1 : Program to check whether a person is eligible to vote or not.\n",
    "age =int(input(\"enter age :\"))\n",
    "\n",
    "if age>=18:\n",
    "    print(\"you are eligible to vote\")\n",
    "else:\n",
    "    print(\"sorry! you are not elig\")"
   ]
  },
  {
   "cell_type": "code",
   "execution_count": 8,
   "id": "638d7d9b",
   "metadata": {},
   "outputs": [
    {
     "name": "stdout",
     "output_type": "stream",
     "text": [
      "enter the values:60\n",
      "number is equal to 60 \n"
     ]
    }
   ],
   "source": [
    "num =int(input(\"enter the values:\"))\n",
    "\n",
    "if num ==20:\n",
    "    print(\"number is equal to 20\")\n",
    "elif num ==40:\n",
    "    print( \"number is equal to 40\")\n",
    "elif num ==60:\n",
    "    print(\"number is equal to 60 \")\n",
    "    \n",
    "else:\n",
    "    print(\"not equal to 20,40,60\")"
   ]
  },
  {
   "cell_type": "code",
   "execution_count": 10,
   "id": "4223d1cb",
   "metadata": {},
   "outputs": [
    {
     "name": "stdout",
     "output_type": "stream",
     "text": [
      "both conditions are true\n"
     ]
    }
   ],
   "source": [
    "\n",
    "#  both condition should be true\n",
    "a=300\n",
    "b=20\n",
    "c=400\n",
    "\n",
    "\n",
    "if a>b and a<c:\n",
    "    print( \"both conditions are true\")  # here both a>b and a<c are true"
   ]
  },
  {
   "cell_type": "code",
   "execution_count": 12,
   "id": "b9c960f6",
   "metadata": {},
   "outputs": [
    {
     "name": "stdout",
     "output_type": "stream",
     "text": [
      "at one condition is true\n"
     ]
    }
   ],
   "source": [
    "# in this condition atlest one should be true \n",
    "a=300\n",
    "b=20\n",
    "c=400\n",
    "\n",
    "if a>b or a>c:\n",
    "    print( \"at one condition is true\")  # here a>b true .......a> c if flase"
   ]
  },
  {
   "cell_type": "code",
   "execution_count": 13,
   "id": "426fd165",
   "metadata": {},
   "outputs": [
    {
     "name": "stdout",
     "output_type": "stream",
     "text": [
      "a is NOT greater than b\n"
     ]
    }
   ],
   "source": [
    "# not\n",
    "# The not keyword is a logical operator, and is used to reverse the result of the conditional statement:\n",
    "a = 33\n",
    "b = 200\n",
    "if not a > b:\n",
    "    print(\"a is NOT greater than b\")\n"
   ]
  },
  {
   "cell_type": "code",
   "execution_count": 15,
   "id": "72bf0e64",
   "metadata": {},
   "outputs": [],
   "source": [
    "# if statements cannot be empty, but if you for some reason have an if statement with no content,\n",
    "#put in the pass statement to avoid getting an error.\n",
    "a = 33\n",
    "b = 200\n",
    "\n",
    "if b > a:\n",
    "    pass"
   ]
  },
  {
   "cell_type": "code",
   "execution_count": null,
   "id": "fec8c531",
   "metadata": {},
   "outputs": [],
   "source": []
  }
 ],
 "metadata": {
  "kernelspec": {
   "display_name": "Python 3 (ipykernel)",
   "language": "python",
   "name": "python3"
  },
  "language_info": {
   "codemirror_mode": {
    "name": "ipython",
    "version": 3
   },
   "file_extension": ".py",
   "mimetype": "text/x-python",
   "name": "python",
   "nbconvert_exporter": "python",
   "pygments_lexer": "ipython3",
   "version": "3.9.12"
  }
 },
 "nbformat": 4,
 "nbformat_minor": 5
}
