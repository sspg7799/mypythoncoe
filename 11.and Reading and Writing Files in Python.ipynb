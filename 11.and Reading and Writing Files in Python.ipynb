{
 "cells": [
  {
   "cell_type": "code",
   "execution_count": 22,
   "id": "a1a8bec2",
   "metadata": {},
   "outputs": [
    {
     "name": "stdout",
     "output_type": "stream",
     "text": [
      "hello shiva\n",
      "how are you \n",
      "how can i help you\n",
      "where are you \n",
      "hyderabad\n",
      "nalgonda\n",
      "chityal\n",
      "udipi\n",
      "hathnagar\n",
      "lb nagar\n",
      "dsnr\n",
      "secbad\n",
      "ranigunj\n",
      "kothpet\n"
     ]
    }
   ],
   "source": [
    "#Python File I/OPython File Operation\n",
    "# Reading and Writing Files in Python\n",
    "\n",
    "my_txt =open(\"my.txt\",\"r\")\n",
    "\n",
    "content =my_txt.read() \n",
    "print(content)"
   ]
  },
  {
   "cell_type": "code",
   "execution_count": 8,
   "id": "efb09b3e",
   "metadata": {},
   "outputs": [
    {
     "name": "stdout",
     "output_type": "stream",
     "text": [
      "hello shiva\n",
      "how are you \n",
      "how can i help you\n",
      "where are you \n",
      "hyderabad\n",
      "nalgonda\n",
      "chityal\n",
      "udipi\n",
      "hathnagar\n",
      "lb nagar\n",
      "dsnr\n",
      "secbad\n",
      "ranigunj\n",
      "kothpet\n"
     ]
    }
   ],
   "source": [
    "my_txt=open(\"my.txt\", \"r\")\n",
    "\n",
    "read = my_txt.read()\n",
    "print(read)\n",
    "\n",
    "my_txt.close()"
   ]
  },
  {
   "cell_type": "code",
   "execution_count": 23,
   "id": "48059836",
   "metadata": {},
   "outputs": [
    {
     "name": "stdout",
     "output_type": "stream",
     "text": [
      "hello shiva\n",
      "how are \n"
     ]
    }
   ],
   "source": [
    "my_txt=open(\"my.txt\", \"r\")\n",
    "\n",
    "read = my_txt.read(20)\n",
    "print(read)"
   ]
  },
  {
   "cell_type": "code",
   "execution_count": 45,
   "id": "7f791266",
   "metadata": {},
   "outputs": [],
   "source": [
    "# write something in write.txt file by using write method\n",
    "\n",
    "with  open(\"write.txt\", \"w\") as wm:\n",
    "    wm.write(\"hello india \\n\")\n",
    "    wm.write(\"hello world\")  \n",
    "    \n",
    "#output check in write.txt"
   ]
  },
  {
   "cell_type": "code",
   "execution_count": 46,
   "id": "cdc5d4c4",
   "metadata": {},
   "outputs": [
    {
     "name": "stdout",
     "output_type": "stream",
     "text": [
      "hello india \n",
      "\n"
     ]
    }
   ],
   "source": [
    "with open(\"write.txt\",\"r\") as read:\n",
    "    rdm=read.readline()\n",
    "    print(rdm)"
   ]
  },
  {
   "cell_type": "code",
   "execution_count": 50,
   "id": "e43a3916",
   "metadata": {},
   "outputs": [],
   "source": [
    "with open(\"write.txt\", \"a\") as wm:\n",
    "    wm.write(\"\\n python is my fav prog lanage \")\n"
   ]
  },
  {
   "cell_type": "code",
   "execution_count": 51,
   "id": "275cf916",
   "metadata": {},
   "outputs": [
    {
     "name": "stdout",
     "output_type": "stream",
     "text": [
      "['hello india \\n', 'hello world\\n', ' python is my fav prog lanage \\n', ' python is my fav prog lanage ']\n"
     ]
    }
   ],
   "source": [
    "#output check in write.txt\n",
    "with open(\"write.txt\",\"r\") as rdm:\n",
    "    readfile=rdm.readlines()\n",
    "    print(readfile)"
   ]
  },
  {
   "cell_type": "code",
   "execution_count": null,
   "id": "f8d891c2",
   "metadata": {},
   "outputs": [],
   "source": []
  }
 ],
 "metadata": {
  "kernelspec": {
   "display_name": "Python 3 (ipykernel)",
   "language": "python",
   "name": "python3"
  },
  "language_info": {
   "codemirror_mode": {
    "name": "ipython",
    "version": 3
   },
   "file_extension": ".py",
   "mimetype": "text/x-python",
   "name": "python",
   "nbconvert_exporter": "python",
   "pygments_lexer": "ipython3",
   "version": "3.9.12"
  }
 },
 "nbformat": 4,
 "nbformat_minor": 5
}
