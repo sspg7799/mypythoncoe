{
 "cells": [
  {
   "cell_type": "code",
   "execution_count": 1,
   "id": "c1d4a295",
   "metadata": {},
   "outputs": [],
   "source": [
    "#multiple hierarchical\n",
    "\n",
    "#  in multiple hierarchical   ....2 base class  and 1 derived class\n",
    "\n"
   ]
  },
  {
   "cell_type": "code",
   "execution_count": 3,
   "id": "88a0e582",
   "metadata": {},
   "outputs": [
    {
     "name": "stdout",
     "output_type": "stream",
     "text": [
      "child method\n",
      "father method\n",
      "mother method\n"
     ]
    }
   ],
   "source": [
    "class father():   # base class 1\n",
    "    def fm (self):\n",
    "        print(\"father method\")\n",
    "        \n",
    "        \n",
    "class mother():        # base class 1\n",
    "    def mm(self):\n",
    "        print(\"mother method\")\n",
    "        \n",
    "class child(father,mother):  # derived class \n",
    "    def cm(self):\n",
    "        print(\"child method\")\n",
    "        \n",
    "\n",
    "c=child()\n",
    "\n",
    "c.cm()\n",
    "c.fm()\n",
    "c.mm()\n",
    "\n"
   ]
  },
  {
   "cell_type": "code",
   "execution_count": null,
   "id": "f662939d",
   "metadata": {},
   "outputs": [],
   "source": [
    "#above example explanation\n",
    "\n",
    "#  in multiple hierarchical   ....2 base class  and 1 derived class\n",
    "\n",
    "# child class can acess father (base class) and mother (base class)\n",
    "\n",
    "#NOTE:  father class (base class2) can not access mother and child class calues and method\n",
    "    \n",
    "# note:     mother class (base class2) can not access mfather and child class calues and method"
   ]
  }
 ],
 "metadata": {
  "kernelspec": {
   "display_name": "Python 3 (ipykernel)",
   "language": "python",
   "name": "python3"
  },
  "language_info": {
   "codemirror_mode": {
    "name": "ipython",
    "version": 3
   },
   "file_extension": ".py",
   "mimetype": "text/x-python",
   "name": "python",
   "nbconvert_exporter": "python",
   "pygments_lexer": "ipython3",
   "version": "3.9.12"
  }
 },
 "nbformat": 4,
 "nbformat_minor": 5
}
