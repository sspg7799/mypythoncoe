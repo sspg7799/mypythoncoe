{
 "cells": [
  {
   "cell_type": "code",
   "execution_count": null,
   "id": "fdc861e4",
   "metadata": {},
   "outputs": [],
   "source": [
    "# 1)build in modules\n",
    "#      1) OS module\n",
    "#       2) SYS module\n",
    "#         3) DATETIME module\n",
    "# 2)user define modules\n"
   ]
  },
  {
   "cell_type": "code",
   "execution_count": 1,
   "id": "a4e564a3",
   "metadata": {},
   "outputs": [],
   "source": [
    "# os module\n",
    "# mkdir\n",
    "# getcwd\n",
    "# rmdir\n",
    "# listdir\n"
   ]
  },
  {
   "cell_type": "code",
   "execution_count": 2,
   "id": "338a3574",
   "metadata": {},
   "outputs": [],
   "source": [
    "import os"
   ]
  },
  {
   "cell_type": "code",
   "execution_count": 4,
   "id": "563a8c87",
   "metadata": {},
   "outputs": [
    {
     "data": {
      "text/plain": [
       "'C:\\\\Users\\\\sspg7\\\\python ATOZ'"
      ]
     },
     "execution_count": 4,
     "metadata": {},
     "output_type": "execute_result"
    }
   ],
   "source": [
    "os.getcwd()"
   ]
  },
  {
   "cell_type": "code",
   "execution_count": 5,
   "id": "63712227",
   "metadata": {},
   "outputs": [],
   "source": [
    "os.mkdir(\"os dir\")"
   ]
  },
  {
   "cell_type": "code",
   "execution_count": 6,
   "id": "10f66acc",
   "metadata": {},
   "outputs": [
    {
     "data": {
      "text/plain": [
       "['.ipynb_checkpoints',\n",
       " '1.Python Comments.ipynb',\n",
       " '10.Python Global Keyword.ipynb',\n",
       " '11.and Reading and Writing Files in Python.ipynb',\n",
       " '12.Python Directory and Files Management.ipynb',\n",
       " '13.Python Exception Handling.ipynb',\n",
       " '14.OOPS CONCEPTS.ipynb',\n",
       " '15. in heritance and multe level inheritance .ipynb',\n",
       " '16.hierarchical in heritance.ipynb',\n",
       " '17. multiple hierarchical .ipynb',\n",
       " '18.polymorphism.ipynb',\n",
       " '19.Modules .ipynb',\n",
       " '2. Python Variables and print.ipynb',\n",
       " '3.python data types.ipynb',\n",
       " '4. if else ....ipynb',\n",
       " '5.Python for Loop.ipynb',\n",
       " '6. Functions.ipynb',\n",
       " '7.Python Local and Global Variables.ipynb',\n",
       " '8.while loop[.ipynb',\n",
       " '9.break and continue and pass.ipynb',\n",
       " 'hello.txt',\n",
       " 'my.txt',\n",
       " 'os dir',\n",
       " 'sample.txt',\n",
       " 'write.txt']"
      ]
     },
     "execution_count": 6,
     "metadata": {},
     "output_type": "execute_result"
    }
   ],
   "source": [
    "os.listdir()"
   ]
  },
  {
   "cell_type": "code",
   "execution_count": 7,
   "id": "55bede61",
   "metadata": {},
   "outputs": [
    {
     "data": {
      "text/plain": [
       "['DirEntry',\n",
       " 'F_OK',\n",
       " 'GenericAlias',\n",
       " 'Mapping',\n",
       " 'MutableMapping',\n",
       " 'O_APPEND',\n",
       " 'O_BINARY',\n",
       " 'O_CREAT',\n",
       " 'O_EXCL',\n",
       " 'O_NOINHERIT',\n",
       " 'O_RANDOM',\n",
       " 'O_RDONLY',\n",
       " 'O_RDWR',\n",
       " 'O_SEQUENTIAL',\n",
       " 'O_SHORT_LIVED',\n",
       " 'O_TEMPORARY',\n",
       " 'O_TEXT',\n",
       " 'O_TRUNC',\n",
       " 'O_WRONLY',\n",
       " 'P_DETACH',\n",
       " 'P_NOWAIT',\n",
       " 'P_NOWAITO',\n",
       " 'P_OVERLAY',\n",
       " 'P_WAIT',\n",
       " 'PathLike',\n",
       " 'R_OK',\n",
       " 'SEEK_CUR',\n",
       " 'SEEK_END',\n",
       " 'SEEK_SET',\n",
       " 'TMP_MAX',\n",
       " 'W_OK',\n",
       " 'X_OK',\n",
       " '_AddedDllDirectory',\n",
       " '_Environ',\n",
       " '__all__',\n",
       " '__builtins__',\n",
       " '__cached__',\n",
       " '__doc__',\n",
       " '__file__',\n",
       " '__loader__',\n",
       " '__name__',\n",
       " '__package__',\n",
       " '__spec__',\n",
       " '_check_methods',\n",
       " '_execvpe',\n",
       " '_exists',\n",
       " '_exit',\n",
       " '_fspath',\n",
       " '_get_exports_list',\n",
       " '_walk',\n",
       " '_wrap_close',\n",
       " 'abc',\n",
       " 'abort',\n",
       " 'access',\n",
       " 'add_dll_directory',\n",
       " 'altsep',\n",
       " 'chdir',\n",
       " 'chmod',\n",
       " 'close',\n",
       " 'closerange',\n",
       " 'cpu_count',\n",
       " 'curdir',\n",
       " 'defpath',\n",
       " 'device_encoding',\n",
       " 'devnull',\n",
       " 'dup',\n",
       " 'dup2',\n",
       " 'environ',\n",
       " 'error',\n",
       " 'execl',\n",
       " 'execle',\n",
       " 'execlp',\n",
       " 'execlpe',\n",
       " 'execv',\n",
       " 'execve',\n",
       " 'execvp',\n",
       " 'execvpe',\n",
       " 'extsep',\n",
       " 'fdopen',\n",
       " 'fsdecode',\n",
       " 'fsencode',\n",
       " 'fspath',\n",
       " 'fstat',\n",
       " 'fsync',\n",
       " 'ftruncate',\n",
       " 'get_exec_path',\n",
       " 'get_handle_inheritable',\n",
       " 'get_inheritable',\n",
       " 'get_terminal_size',\n",
       " 'getcwd',\n",
       " 'getcwdb',\n",
       " 'getenv',\n",
       " 'getlogin',\n",
       " 'getpid',\n",
       " 'getppid',\n",
       " 'isatty',\n",
       " 'kill',\n",
       " 'linesep',\n",
       " 'link',\n",
       " 'listdir',\n",
       " 'lseek',\n",
       " 'lstat',\n",
       " 'makedirs',\n",
       " 'mkdir',\n",
       " 'name',\n",
       " 'open',\n",
       " 'pardir',\n",
       " 'path',\n",
       " 'pathsep',\n",
       " 'pipe',\n",
       " 'popen',\n",
       " 'putenv',\n",
       " 'read',\n",
       " 'readlink',\n",
       " 'remove',\n",
       " 'removedirs',\n",
       " 'rename',\n",
       " 'renames',\n",
       " 'replace',\n",
       " 'rmdir',\n",
       " 'scandir',\n",
       " 'sep',\n",
       " 'set_handle_inheritable',\n",
       " 'set_inheritable',\n",
       " 'spawnl',\n",
       " 'spawnle',\n",
       " 'spawnv',\n",
       " 'spawnve',\n",
       " 'st',\n",
       " 'startfile',\n",
       " 'stat',\n",
       " 'stat_result',\n",
       " 'statvfs_result',\n",
       " 'strerror',\n",
       " 'supports_bytes_environ',\n",
       " 'supports_dir_fd',\n",
       " 'supports_effective_ids',\n",
       " 'supports_fd',\n",
       " 'supports_follow_symlinks',\n",
       " 'symlink',\n",
       " 'sys',\n",
       " 'system',\n",
       " 'terminal_size',\n",
       " 'times',\n",
       " 'times_result',\n",
       " 'truncate',\n",
       " 'umask',\n",
       " 'uname_result',\n",
       " 'unlink',\n",
       " 'unsetenv',\n",
       " 'urandom',\n",
       " 'utime',\n",
       " 'waitpid',\n",
       " 'waitstatus_to_exitcode',\n",
       " 'walk',\n",
       " 'write']"
      ]
     },
     "execution_count": 7,
     "metadata": {},
     "output_type": "execute_result"
    }
   ],
   "source": [
    "dir(os)"
   ]
  },
  {
   "cell_type": "code",
   "execution_count": 8,
   "id": "63a352f2",
   "metadata": {},
   "outputs": [],
   "source": [
    "#2) SYS module"
   ]
  },
  {
   "cell_type": "code",
   "execution_count": 9,
   "id": "9a296126",
   "metadata": {},
   "outputs": [],
   "source": [
    "import sys"
   ]
  },
  {
   "cell_type": "code",
   "execution_count": 11,
   "id": "dff71051",
   "metadata": {},
   "outputs": [
    {
     "data": {
      "text/plain": [
       "9223372036854775807"
      ]
     },
     "execution_count": 11,
     "metadata": {},
     "output_type": "execute_result"
    }
   ],
   "source": [
    "sys.maxsize"
   ]
  },
  {
   "cell_type": "code",
   "execution_count": 12,
   "id": "025750a1",
   "metadata": {},
   "outputs": [
    {
     "data": {
      "text/plain": [
       "['C:\\\\Users\\\\sspg7\\\\python ATOZ',\n",
       " 'C:\\\\Users\\\\sspg7\\\\anaconda3\\\\python39.zip',\n",
       " 'C:\\\\Users\\\\sspg7\\\\anaconda3\\\\DLLs',\n",
       " 'C:\\\\Users\\\\sspg7\\\\anaconda3\\\\lib',\n",
       " 'C:\\\\Users\\\\sspg7\\\\anaconda3',\n",
       " '',\n",
       " 'C:\\\\Users\\\\sspg7\\\\anaconda3\\\\lib\\\\site-packages',\n",
       " 'C:\\\\Users\\\\sspg7\\\\anaconda3\\\\lib\\\\site-packages\\\\win32',\n",
       " 'C:\\\\Users\\\\sspg7\\\\anaconda3\\\\lib\\\\site-packages\\\\win32\\\\lib',\n",
       " 'C:\\\\Users\\\\sspg7\\\\anaconda3\\\\lib\\\\site-packages\\\\Pythonwin']"
      ]
     },
     "execution_count": 12,
     "metadata": {},
     "output_type": "execute_result"
    }
   ],
   "source": [
    "sys.path"
   ]
  },
  {
   "cell_type": "code",
   "execution_count": 13,
   "id": "d051540f",
   "metadata": {},
   "outputs": [
    {
     "data": {
      "text/plain": [
       "'3.9.12 (main, Apr  4 2022, 05:22:27) [MSC v.1916 64 bit (AMD64)]'"
      ]
     },
     "execution_count": 13,
     "metadata": {},
     "output_type": "execute_result"
    }
   ],
   "source": [
    "sys.version"
   ]
  },
  {
   "cell_type": "code",
   "execution_count": 14,
   "id": "07144a16",
   "metadata": {},
   "outputs": [],
   "source": [
    "# # date module\n",
    "#   1)date class   ...month-date-year\n",
    "#   2) time class ...hours-minutes-seconds-microseconds\n",
    "#   3) datatime class  ...  date calss + time class  like month-date-year + hours-minutes-seconds-microseconds\n",
    "#   4) timedelta class\n",
    "    "
   ]
  },
  {
   "cell_type": "code",
   "execution_count": 15,
   "id": "a0da88e5",
   "metadata": {},
   "outputs": [],
   "source": [
    "import datetime"
   ]
  },
  {
   "cell_type": "code",
   "execution_count": 21,
   "id": "1d86bea6",
   "metadata": {},
   "outputs": [
    {
     "data": {
      "text/plain": [
       "datetime.datetime(2023, 6, 21, 10, 36, 59, 214684)"
      ]
     },
     "execution_count": 21,
     "metadata": {},
     "output_type": "execute_result"
    }
   ],
   "source": [
    "# get cuurent date time ..use below \n",
    "    \n",
    "date_time = datetime.datetime.now()\n",
    "date_time\n",
    "#here = date_time ...object name (we you can give whate ever you want)\n",
    "#        datetime=(module name)\n",
    "#        datetime=(class)\n",
    "#        now() = (method)"
   ]
  },
  {
   "cell_type": "code",
   "execution_count": 22,
   "id": "c5ebac90",
   "metadata": {},
   "outputs": [],
   "source": [
    "#  datetime.datetime(2023, 6, 21, 10, 36, 59, 214684)\n",
    "\n",
    "  #                 ( year, date,month,time,minutes,seconds,microseonds)"
   ]
  },
  {
   "cell_type": "code",
   "execution_count": 24,
   "id": "1a8f8590",
   "metadata": {},
   "outputs": [
    {
     "data": {
      "text/plain": [
       "datetime.date(2023, 6, 21)"
      ]
     },
     "execution_count": 24,
     "metadata": {},
     "output_type": "execute_result"
    }
   ],
   "source": [
    "# to get current date\n",
    "\n",
    "today_date=datetime.date.today()\n",
    "today_date\n",
    "\n",
    "#here = today_date ...object name (we you can give whate ever you want)\n",
    "#        datetime=(module name)\n",
    "#        date=(class)\n",
    "#        today() = (method)"
   ]
  },
  {
   "cell_type": "code",
   "execution_count": null,
   "id": "8b87ae68",
   "metadata": {},
   "outputs": [],
   "source": [
    "# you give like this\n",
    "\n",
    " # from datetime import datetime\n",
    "    \n",
    "    # or\n",
    "       \n",
    "        # import datetime \n",
    "        \n",
    "    # date = datetime.date(date)\n",
    "    #time =datetime.time"
   ]
  },
  {
   "cell_type": "code",
   "execution_count": 26,
   "id": "11fb3129",
   "metadata": {},
   "outputs": [],
   "source": [
    "# note:  always we dont want import date module  ..soulution is given below\n",
    "\n",
    "\n",
    "from datetime import datetime      # from module  importing class\n",
    "\n"
   ]
  },
  {
   "cell_type": "code",
   "execution_count": 28,
   "id": "028c8baf",
   "metadata": {},
   "outputs": [],
   "source": [
    "d=datetime.now()"
   ]
  },
  {
   "cell_type": "code",
   "execution_count": 29,
   "id": "11e7212b",
   "metadata": {},
   "outputs": [
    {
     "data": {
      "text/plain": [
       "datetime.datetime(2023, 6, 21, 11, 0, 22, 942514)"
      ]
     },
     "execution_count": 29,
     "metadata": {},
     "output_type": "execute_result"
    }
   ],
   "source": [
    "d"
   ]
  },
  {
   "cell_type": "code",
   "execution_count": 30,
   "id": "17fe69c4",
   "metadata": {},
   "outputs": [],
   "source": [
    "from datetime import date    # from module  importing class"
   ]
  },
  {
   "cell_type": "code",
   "execution_count": 48,
   "id": "4481e058",
   "metadata": {},
   "outputs": [],
   "source": [
    "today_date=date.today()\n",
    "#td_date"
   ]
  },
  {
   "cell_type": "code",
   "execution_count": 50,
   "id": "915c2a71",
   "metadata": {},
   "outputs": [
    {
     "data": {
      "text/plain": [
       "datetime.date(2023, 6, 21)"
      ]
     },
     "execution_count": 50,
     "metadata": {},
     "output_type": "execute_result"
    }
   ],
   "source": [
    "today_date"
   ]
  },
  {
   "cell_type": "code",
   "execution_count": 56,
   "id": "21d6fd57",
   "metadata": {},
   "outputs": [
    {
     "name": "stdout",
     "output_type": "stream",
     "text": [
      "1992-08-15\n",
      "1992-08-15\n"
     ]
    }
   ],
   "source": [
    "# method-1\n",
    "\n",
    "import datetime\n",
    "shiva_dob=datetime.date(1992,8,15)  # here we assign the date to shiva_date manually \n",
    "print(shiva_dob)  \n",
    " \n",
    "                          #   or \n",
    "\n",
    "# method-2\n",
    "\n",
    "from datetime import date\n",
    "d=datetime.date(1992,8,15)\n",
    "print(d)"
   ]
  },
  {
   "cell_type": "code",
   "execution_count": 62,
   "id": "8f921c3a",
   "metadata": {},
   "outputs": [
    {
     "data": {
      "text/plain": [
       "15"
      ]
     },
     "execution_count": 62,
     "metadata": {},
     "output_type": "execute_result"
    }
   ],
   "source": [
    "d.year\n",
    "d.month\n",
    "d.day"
   ]
  },
  {
   "cell_type": "code",
   "execution_count": 66,
   "id": "1df48067",
   "metadata": {},
   "outputs": [
    {
     "name": "stdout",
     "output_type": "stream",
     "text": [
      "shiva date of birth 1992-08-15\n",
      "montn 8\n",
      "year 1992\n",
      "day 15\n"
     ]
    }
   ],
   "source": [
    "from datetime import date\n",
    "d=datetime.date(1992,8,15)\n",
    "print(\"shiva date of birth\" ,d)\n",
    "print(\"montn\",d.month)\n",
    "print(\"year\", d.year)\n",
    "print(\"day\",d.day)"
   ]
  },
  {
   "cell_type": "code",
   "execution_count": 77,
   "id": "1a817818",
   "metadata": {},
   "outputs": [
    {
     "name": "stdout",
     "output_type": "stream",
     "text": [
      "current year 2023\n",
      "today month 6\n",
      "current day 21\n"
     ]
    }
   ],
   "source": [
    "# print today's year and month,date\n",
    "\n",
    "from datetime import date\n",
    "\n",
    "today=date.today()\n",
    "print(\"current year\",today.year)\n",
    "print(\"current month\", today.month)\n",
    "print(\"current day\", today.day)"
   ]
  },
  {
   "cell_type": "code",
   "execution_count": 79,
   "id": "3dda47a4",
   "metadata": {},
   "outputs": [
    {
     "name": "stdout",
     "output_type": "stream",
     "text": [
      "11:50:45.000100\n"
     ]
    }
   ],
   "source": [
    "# print time\n",
    "\n",
    "from datetime import time\n",
    "\n",
    "time=datetime.time(11,50,45,1000)\n",
    "\n",
    "print(time)"
   ]
  },
  {
   "cell_type": "code",
   "execution_count": 86,
   "id": "4fe794a0",
   "metadata": {},
   "outputs": [
    {
     "name": "stdout",
     "output_type": "stream",
     "text": [
      "the cuurrent time is 11:50:45.001000\n",
      "11\n",
      "50\n",
      "45\n",
      "1000\n"
     ]
    }
   ],
   "source": [
    "# print time\n",
    "\n",
    "from datetime import time\n",
    "\n",
    "time=datetime.time(11,50,45,1000)\n",
    "\n",
    "print(\"the cuurrent time is\",time)\n",
    "print(time.hour)\n",
    "print(time.minute)\n",
    "print(time.second)\n",
    "print(time.microsecond)"
   ]
  },
  {
   "cell_type": "code",
   "execution_count": 91,
   "id": "af0455df",
   "metadata": {},
   "outputs": [
    {
     "name": "stdout",
     "output_type": "stream",
     "text": [
      "the cuurrent time is 11:50:45.001000\n",
      "current hour 11\n",
      "current miutes 50\n",
      "cuurrent sec 45\n",
      "current micro sec 1000\n"
     ]
    }
   ],
   "source": [
    "from datetime import time\n",
    "t=time(11,50,45,1000)\n",
    "\n",
    "print(\"the cuurrent time is\",t)\n",
    "print(\"current hour\",t.hour)\n",
    "print(\"current miutes\",t.minute)\n",
    "print(\"cuurrent sec\",t.second)\n",
    "print(\"current micro sec\",t.microsecond)"
   ]
  },
  {
   "cell_type": "code",
   "execution_count": 114,
   "id": "a29bc318",
   "metadata": {},
   "outputs": [
    {
     "name": "stdout",
     "output_type": "stream",
     "text": [
      "1992-08-15 04:30:15.020010\n",
      "2023-06-21 11:58:15.486750\n"
     ]
    }
   ],
   "source": [
    "# python datetime object\n",
    "\n",
    "import datetime\n",
    "\n",
    "date_time =datetime.datetime(1992,8,15,4,30,15,20010)\n",
    "\n",
    "print(date_time)  # maual date print \n",
    "\n",
    "print(datetime.datetime.today())   # current date "
   ]
  },
  {
   "cell_type": "code",
   "execution_count": 122,
   "id": "124610bf",
   "metadata": {},
   "outputs": [
    {
     "name": "stdout",
     "output_type": "stream",
     "text": [
      "1992-08-15 00:00:00\n",
      "1992-08-15 04:15:30.002555\n",
      "current date and time  2023-06-21 12:01:00.450413\n"
     ]
    },
    {
     "data": {
      "text/plain": [
       "8"
      ]
     },
     "execution_count": 122,
     "metadata": {},
     "output_type": "execute_result"
    }
   ],
   "source": [
    "#method 2\n",
    "from datetime import datetime \n",
    "\n",
    "a=datetime(1992,8,15)\n",
    "\n",
    "b=datetime(1992,8,15,4,15,30,2555)\n",
    "\n",
    "print(a)\n",
    "print(b)\n",
    "print(\"current date and time \", datetime.today())\n",
    "a.timestamp()\n",
    "a.year\n",
    "a.month"
   ]
  },
  {
   "cell_type": "code",
   "execution_count": 123,
   "id": "56ddc31b",
   "metadata": {},
   "outputs": [
    {
     "data": {
      "text/plain": [
       "1992"
      ]
     },
     "execution_count": 123,
     "metadata": {},
     "output_type": "execute_result"
    }
   ],
   "source": [
    "a.year"
   ]
  },
  {
   "cell_type": "code",
   "execution_count": 124,
   "id": "8c354a18",
   "metadata": {},
   "outputs": [
    {
     "data": {
      "text/plain": [
       "0"
      ]
     },
     "execution_count": 124,
     "metadata": {},
     "output_type": "execute_result"
    }
   ],
   "source": [
    "a.hour"
   ]
  },
  {
   "cell_type": "code",
   "execution_count": 126,
   "id": "69065574",
   "metadata": {},
   "outputs": [
    {
     "data": {
      "text/plain": [
       "8"
      ]
     },
     "execution_count": 126,
     "metadata": {},
     "output_type": "execute_result"
    }
   ],
   "source": [
    "a.month"
   ]
  },
  {
   "cell_type": "code",
   "execution_count": 127,
   "id": "38a083da",
   "metadata": {},
   "outputs": [
    {
     "data": {
      "text/plain": [
       "713817000.0"
      ]
     },
     "execution_count": 127,
     "metadata": {},
     "output_type": "execute_result"
    }
   ],
   "source": [
    "a.timestamp()"
   ]
  },
  {
   "cell_type": "code",
   "execution_count": 136,
   "id": "433b1dea",
   "metadata": {},
   "outputs": [
    {
     "name": "stdout",
     "output_type": "stream",
     "text": [
      "0:00:15\n"
     ]
    }
   ],
   "source": [
    "#difference between two timedelta objects\n",
    "\n",
    "from datetime import timedelta\n",
    "\n",
    "t1=timedelta(days=2023,seconds=45)\n",
    "t2=timedelta(days=2023,seconds=60)\n",
    "print(t2-t1)"
   ]
  },
  {
   "cell_type": "code",
   "execution_count": null,
   "id": "8ea346cd",
   "metadata": {},
   "outputs": [],
   "source": []
  }
 ],
 "metadata": {
  "kernelspec": {
   "display_name": "Python 3 (ipykernel)",
   "language": "python",
   "name": "python3"
  },
  "language_info": {
   "codemirror_mode": {
    "name": "ipython",
    "version": 3
   },
   "file_extension": ".py",
   "mimetype": "text/x-python",
   "name": "python",
   "nbconvert_exporter": "python",
   "pygments_lexer": "ipython3",
   "version": "3.9.12"
  }
 },
 "nbformat": 4,
 "nbformat_minor": 5
}
