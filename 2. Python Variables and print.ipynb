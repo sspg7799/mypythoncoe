{
 "cells": [
  {
   "cell_type": "code",
   "execution_count": 1,
   "id": "bb4b597e",
   "metadata": {},
   "outputs": [],
   "source": [
    "# Python Variables, Constants and Literals\n",
    "# In this tutorial, we will learn about Python variables, constants, literals with the help of examples."
   ]
  },
  {
   "cell_type": "code",
   "execution_count": 9,
   "id": "aaeca88a",
   "metadata": {},
   "outputs": [
    {
     "name": "stdout",
     "output_type": "stream",
     "text": [
      "hyderabad\n"
     ]
    }
   ],
   "source": [
    "city=\"hyderabad\"\n",
    "\n",
    "print(city)"
   ]
  },
  {
   "cell_type": "code",
   "execution_count": 12,
   "id": "f49cc9cc",
   "metadata": {},
   "outputs": [
    {
     "name": "stdout",
     "output_type": "stream",
     "text": [
      "lb nagr\n"
     ]
    }
   ],
   "source": [
    "city=\"lb nagr\"\n",
    "print(city)"
   ]
  },
  {
   "cell_type": "code",
   "execution_count": 14,
   "id": "79246ac8",
   "metadata": {},
   "outputs": [
    {
     "name": "stdout",
     "output_type": "stream",
     "text": [
      "lb nagr\n",
      "hyderabad\n"
     ]
    }
   ],
   "source": [
    "city1=\"hyderabad\"\n",
    "city=\"lb nagr\"\n",
    "print(city)\n",
    "print(city1)"
   ]
  },
  {
   "cell_type": "code",
   "execution_count": 16,
   "id": "d5d986f8",
   "metadata": {},
   "outputs": [
    {
     "name": "stdout",
     "output_type": "stream",
     "text": [
      "bangalore\n"
     ]
    }
   ],
   "source": [
    "my_city =\"hyderabad\"\n",
    "my_destination=\"bangalore\"\n",
    "\n",
    "my_city =my_destination\n",
    "print(my_city)"
   ]
  },
  {
   "cell_type": "code",
   "execution_count": 20,
   "id": "c15163cc",
   "metadata": {},
   "outputs": [
    {
     "name": "stdout",
     "output_type": "stream",
     "text": [
      "my netive polace: hyderabad\n"
     ]
    }
   ],
   "source": [
    "my_city=\"hyderabad\"\n",
    "print(\"my netive polace:\", my_city)"
   ]
  },
  {
   "cell_type": "code",
   "execution_count": 26,
   "id": "4cedff75",
   "metadata": {},
   "outputs": [
    {
     "name": "stdout",
     "output_type": "stream",
     "text": [
      "my negarive place: hyderabad kfc brances in hyd: 3\n"
     ]
    }
   ],
   "source": [
    "#  hear comma , gives space automatically without mention \n",
    "my_city=\"hyderabad\"\n",
    "kfc_loc=3\n",
    "print(\"my negarive place:\",my_city,\"kfc brances in hyd:\",kfc_loc)"
   ]
  },
  {
   "cell_type": "code",
   "execution_count": null,
   "id": "94c76159",
   "metadata": {},
   "outputs": [],
   "source": []
  }
 ],
 "metadata": {
  "kernelspec": {
   "display_name": "Python 3 (ipykernel)",
   "language": "python",
   "name": "python3"
  },
  "language_info": {
   "codemirror_mode": {
    "name": "ipython",
    "version": 3
   },
   "file_extension": ".py",
   "mimetype": "text/x-python",
   "name": "python",
   "nbconvert_exporter": "python",
   "pygments_lexer": "ipython3",
   "version": "3.9.12"
  }
 },
 "nbformat": 4,
 "nbformat_minor": 5
}
