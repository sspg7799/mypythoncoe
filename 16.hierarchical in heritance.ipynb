{
 "cells": [
  {
   "cell_type": "code",
   "execution_count": 1,
   "id": "93f4fc49",
   "metadata": {},
   "outputs": [],
   "source": [
    "#16.hierarchical in heritance  consists\n",
    "\n",
    "# 1 base class .......2 derived classes\n",
    "\n",
    "\n",
    "explantioN"
   ]
  },
  {
   "cell_type": "code",
   "execution_count": 12,
   "id": "a41ca6b0",
   "metadata": {},
   "outputs": [
    {
     "name": "stdout",
     "output_type": "stream",
     "text": [
      "daughter method\n",
      "parents method\n"
     ]
    },
    {
     "ename": "AttributeError",
     "evalue": "'daughter' object has no attribute 'son_method'",
     "output_type": "error",
     "traceback": [
      "\u001b[1;31m---------------------------------------------------------------------------\u001b[0m",
      "\u001b[1;31mAttributeError\u001b[0m                            Traceback (most recent call last)",
      "Input \u001b[1;32mIn [12]\u001b[0m, in \u001b[0;36m<cell line: 24>\u001b[1;34m()\u001b[0m\n\u001b[0;32m     17\u001b[0m d\u001b[38;5;241m.\u001b[39mp_method()\n\u001b[0;32m     19\u001b[0m \u001b[38;5;66;03m# when we create child2 object .....we can access base method and child2 metho values and method\u001b[39;00m\n\u001b[0;32m     20\u001b[0m \u001b[38;5;66;03m# we can not acces child 1 values and method\u001b[39;00m\n\u001b[0;32m     21\u001b[0m \n\u001b[0;32m     22\u001b[0m \u001b[38;5;66;03m# same as child1 also applied \u001b[39;00m\n\u001b[1;32m---> 24\u001b[0m \u001b[43md\u001b[49m\u001b[38;5;241;43m.\u001b[39;49m\u001b[43mson_method\u001b[49m()\n",
      "\u001b[1;31mAttributeError\u001b[0m: 'daughter' object has no attribute 'son_method'"
     ]
    }
   ],
   "source": [
    "class parent:                 # base method\n",
    "    def p_method(self):\n",
    "        print(\"parents method\")\n",
    "\n",
    "        \n",
    "class son(parent):      # child 1 method\n",
    "    def son_method(self):\n",
    "        print(\"son method\")\n",
    "\n",
    "class daughter(parent):   # child 2 method \n",
    "    def d_method(self):\n",
    "        print(\"daughter method\")\n",
    "        \n",
    "\n",
    "d=daughter()\n",
    "d.d_method() \n",
    "d.p_method()\n",
    "\n",
    "# when we create child2 object .....we can access base method and child2 metho values and method\n",
    "# we can not acces child 1 values and method\n",
    "\n",
    "# same as child1 also applied \n",
    "\n",
    "d.son_method()\n",
    "\n"
   ]
  },
  {
   "cell_type": "code",
   "execution_count": 13,
   "id": "b91ce31d",
   "metadata": {},
   "outputs": [
    {
     "name": "stdout",
     "output_type": "stream",
     "text": [
      "son method\n",
      "parents method\n"
     ]
    },
    {
     "ename": "AttributeError",
     "evalue": "'son' object has no attribute 'daughter'",
     "output_type": "error",
     "traceback": [
      "\u001b[1;31m---------------------------------------------------------------------------\u001b[0m",
      "\u001b[1;31mAttributeError\u001b[0m                            Traceback (most recent call last)",
      "Input \u001b[1;32mIn [13]\u001b[0m, in \u001b[0;36m<cell line: 30>\u001b[1;34m()\u001b[0m\n\u001b[0;32m     26\u001b[0m s\u001b[38;5;241m.\u001b[39mson_method()\n\u001b[0;32m     28\u001b[0m s\u001b[38;5;241m.\u001b[39mp_method()\n\u001b[1;32m---> 30\u001b[0m \u001b[43ms\u001b[49m\u001b[38;5;241;43m.\u001b[39;49m\u001b[43mdaughter\u001b[49m()\n",
      "\u001b[1;31mAttributeError\u001b[0m: 'son' object has no attribute 'daughter'"
     ]
    }
   ],
   "source": [
    "class parent:                 # base method\n",
    "    def p_method(self):\n",
    "        print(\"parents method\")\n",
    "\n",
    "        \n",
    "class son(parent):      # child 1 method\n",
    "    def son_method(self):\n",
    "        print(\"son method\")\n",
    "\n",
    "class daughter(parent):   # child 2 method \n",
    "    def d_method(self):\n",
    "        print(\"daughter method\")\n",
    "        \n",
    "\n",
    "\"\"\"\"\"d=daughter()\n",
    "d.d_method() \n",
    "d.p_method()\"\"\"\"\"\n",
    "\n",
    "# when we create child1 object .....we can access base method and child1 metho values and method\n",
    "# we can not acces child2 values and method\n",
    "\n",
    "# same as child2 also applied ...\n",
    "\n",
    "# base method (parent class/ base method  ) can only access his(parent classs/ base method) values and method \n",
    "s=son()\n",
    "\n",
    "s.son_method()\n",
    "\n",
    "s.p_method()\n",
    "\n",
    "s.daughter()\n"
   ]
  },
  {
   "cell_type": "code",
   "execution_count": null,
   "id": "2b8c2129",
   "metadata": {},
   "outputs": [],
   "source": []
  }
 ],
 "metadata": {
  "kernelspec": {
   "display_name": "Python 3 (ipykernel)",
   "language": "python",
   "name": "python3"
  },
  "language_info": {
   "codemirror_mode": {
    "name": "ipython",
    "version": 3
   },
   "file_extension": ".py",
   "mimetype": "text/x-python",
   "name": "python",
   "nbconvert_exporter": "python",
   "pygments_lexer": "ipython3",
   "version": "3.9.12"
  }
 },
 "nbformat": 4,
 "nbformat_minor": 5
}
